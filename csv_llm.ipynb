{
 "cells": [
  {
   "cell_type": "code",
   "execution_count": 23,
   "id": "a93fd965",
   "metadata": {},
   "outputs": [
    {
     "name": "stdout",
     "output_type": "stream",
     "text": [
      "page_content=': 0\n",
      "name: Women's Campside Oxfords\n",
      "description: This ultracomfortable lace-to-toe Oxford boasts a super-soft canvas, thick cushioning, and quality construction for a broken-in feel from the first time you put them on. \n",
      "\n",
      "Size & Fit: Order regular shoe size. For half sizes not offered, order up to next whole size. \n",
      "\n",
      "Specs: Approx. weight: 1 lb.1 oz. per pair. \n",
      "\n",
      "Construction: Soft canvas material for a broken-in feel and look. Comfortable EVA innersole with Cleansport NXT® antimicrobial odor control. Vintage hunt, fish and camping motif on innersole. Moderate arch contour of innersole. EVA foam midsole for cushioning and support. Chain-tread-inspired molded rubber outsole with modified chain-tread pattern. Imported. \n",
      "\n",
      "Questions? Please contact us for any inquiries.' metadata={'source': 'C:\\\\Users\\\\chali\\\\Downloads\\\\OutdoorClothingCatalog_1000.csv', 'row': 0}\n"
     ]
    }
   ],
   "source": [
    "import os\n",
    "from langchain_openai import ChatOpenAI, OpenAIEmbeddings\n",
    "from langchain_community.document_loaders import CSVLoader\n",
    "from langchain.vectorstores import DocArrayInMemorySearch\n",
    "from IPython.display import display, Markdown\n",
    "from dotenv import load_dotenv\n",
    "\n",
    "# Load API key from .env (Recommended)\n",
    "# load_dotenv()\n",
    "os.environ[\"OPENAI_API_KEY\"] = \"api key here\"\n",
    "# File path\n",
    "csv_path = r\"C:\\Users\\chali\\Downloads\\OutdoorClothingCatalog_1000.csv\"\n",
    "\n",
    "# Load CSV\n",
    "loader = CSVLoader(file_path=csv_path, encoding=\"utf-8\")\n",
    "doc_holder = loader.load()\n",
    "\n",
    "print(doc_holder[0])\n",
    "\n",
    "# Initialize OpenAI embeddings\n",
    "embeddings = OpenAIEmbeddings()\n",
    "\n",
    "# Create vector store\n",
    "db = DocArrayInMemorySearch.from_documents(doc_holder, embeddings)\n",
    "\n",
    "# Query for relevant documents\n",
    "query = \"Please suggest a shirt with sunblocking\"\n",
    "docs = db.similarity_search(query)\n",
    "\n",
    "# Ensure we don't exceed token limits\n",
    "qdocs = \"\\n\\n\".join([doc.page_content for doc in docs if hasattr(doc, \"page_content\")])\n",
    "\n",
    "# Initialize LLM\n",
    "llm = ChatOpenAI(temperature=0.0, model=\"gpt-3.5-turbo\")\n",
    "\n",
    "# Send query to LLM\n"
   ]
  },
  {
   "cell_type": "code",
   "execution_count": 18,
   "id": "377ee91a",
   "metadata": {},
   "outputs": [],
   "source": [
    "response = llm.invoke(f\"\"\"\n",
    "Question: Please list all shirts with sun protection in a table and summarize each one.\n",
    "\n",
    "Data:\n",
    "{qdocs}\n",
    "\n",
    "Instructions:\n",
    "1. Extract the shirt name and description for each shirt that mentions sun protection from the provided data.\n",
    "2. Create a table with the columns \"Shirt Name\" and \"Description\".\n",
    "3. For each shirt with sun protection, include its name in the \"Shirt Name\" column and a concise summary of its description in the \"Description\" column.  Focus on the sun protection aspects in the summary.\n",
    "4. If no shirts with sun protection are found, return a message saying \"No shirts with sun protection found.\"\n",
    "5. add summary at end.\n",
    "\"\"\")"
   ]
  },
  {
   "cell_type": "code",
   "execution_count": 19,
   "id": "18d692d0",
   "metadata": {},
   "outputs": [
    {
     "name": "stdout",
     "output_type": "stream",
     "text": [
      "content=\"| Shirt Name                        | Description                                                                                                      |\\n|-----------------------------------|------------------------------------------------------------------------------------------------------------------|\\n| Sun Shield Shirt by               | High-performance sun shirt with UPF 50+ rating, blocking 98% of harmful UV rays. Recommended by The Skin Cancer Foundation. |\\n| Men's Plaid Tropic Shirt, Short-Sleeve | UPF 50+ sun protection shirt with SunSmart technology blocking 98% of UV rays. Great for extended travel.          |\\n| Men's TropicVibe Shirt, Short-Sleeve   | Men’s sun-protection shirt with UPF 50+ rating, providing lightweight feel and coverage against strong UV rays.     |\\n| Men's Tropical Plaid Short-Sleeve Shirt | UPF 50+ rated shirt for superior sun protection, with wrinkle-resistant fabric and front/back venting for cool breezes. |\\n\\nSummary: The listed shirts provide high sun protection with UPF 50+ ratings, blocking 98% of harmful UV rays. They are designed for comfort and functionality, making them ideal for outdoor activities in hot weather.\" additional_kwargs={'refusal': None} response_metadata={'token_usage': {'completion_tokens': 220, 'prompt_tokens': 800, 'total_tokens': 1020, 'completion_tokens_details': {'accepted_prediction_tokens': 0, 'audio_tokens': 0, 'reasoning_tokens': 0, 'rejected_prediction_tokens': 0}, 'prompt_tokens_details': {'audio_tokens': 0, 'cached_tokens': 0}}, 'model_name': 'gpt-3.5-turbo-0125', 'system_fingerprint': None, 'finish_reason': 'stop', 'logprobs': None} id='run-898e89d0-4f09-454a-88fd-73583169261d-0' usage_metadata={'input_tokens': 800, 'output_tokens': 220, 'total_tokens': 1020, 'input_token_details': {'audio': 0, 'cache_read': 0}, 'output_token_details': {'audio': 0, 'reasoning': 0}}\n"
     ]
    }
   ],
   "source": [
    "print(response)"
   ]
  },
  {
   "cell_type": "code",
   "execution_count": null,
   "id": "e6a71ae7",
   "metadata": {},
   "outputs": [],
   "source": [
    "\n"
   ]
  },
  {
   "cell_type": "code",
   "execution_count": 22,
   "id": "4b425391",
   "metadata": {},
   "outputs": [
    {
     "name": "stdout",
     "output_type": "stream",
     "text": [
      "| Shirt Name                        | Description                                                                                                      |\n",
      "|-----------------------------------|------------------------------------------------------------------------------------------------------------------|\n",
      "| Sun Shield Shirt by               | High-performance sun shirt with UPF 50+ rating, blocking 98% of harmful UV rays. Recommended by The Skin Cancer Foundation. |\n",
      "| Men's Plaid Tropic Shirt, Short-Sleeve | UPF 50+ sun protection shirt with SunSmart technology blocking 98% of UV rays. Great for extended travel.          |\n",
      "| Men's TropicVibe Shirt, Short-Sleeve   | Men’s sun-protection shirt with UPF 50+ rating, providing lightweight feel and coverage against strong UV rays.     |\n",
      "| Men's Tropical Plaid Short-Sleeve Shirt | UPF 50+ rated shirt for superior sun protection, with wrinkle-resistant fabric and front/back venting for cool breezes. |\n",
      "\n",
      "Summary: The listed shirts provide high sun protection with UPF 50+ ratings, blocking 98% of harmful UV rays. They are designed for comfort and functionality, making them ideal for outdoor activities in hot weather.\n"
     ]
    }
   ],
   "source": [
    "print(response.content)"
   ]
  },
  {
   "cell_type": "code",
   "execution_count": 20,
   "id": "1486996c",
   "metadata": {},
   "outputs": [
    {
     "data": {
      "text/markdown": [
       "| Shirt Name                        | Description                                                                                                      |\n",
       "|-----------------------------------|------------------------------------------------------------------------------------------------------------------|\n",
       "| Sun Shield Shirt by               | High-performance sun shirt with UPF 50+ rating, blocking 98% of harmful UV rays. Recommended by The Skin Cancer Foundation. |\n",
       "| Men's Plaid Tropic Shirt, Short-Sleeve | UPF 50+ sun protection shirt with SunSmart technology blocking 98% of UV rays. Great for extended travel.          |\n",
       "| Men's TropicVibe Shirt, Short-Sleeve   | Men’s sun-protection shirt with UPF 50+ rating, providing lightweight feel and coverage against strong UV rays.     |\n",
       "| Men's Tropical Plaid Short-Sleeve Shirt | UPF 50+ rated shirt for superior sun protection, with wrinkle-resistant fabric and front/back venting for cool breezes. |\n",
       "\n",
       "Summary: The listed shirts provide high sun protection with UPF 50+ ratings, blocking 98% of harmful UV rays. They are designed for comfort and functionality, making them ideal for outdoor activities in hot weather."
      ],
      "text/plain": [
       "<IPython.core.display.Markdown object>"
      ]
     },
     "metadata": {},
     "output_type": "display_data"
    }
   ],
   "source": [
    "display(Markdown(response.content))\n"
   ]
  },
  {
   "cell_type": "code",
   "execution_count": null,
   "id": "20437bed",
   "metadata": {},
   "outputs": [],
   "source": []
  }
 ],
 "metadata": {
  "kernelspec": {
   "display_name": "llm_kernel",
   "language": "python",
   "name": "llm_kernel"
  },
  "language_info": {
   "codemirror_mode": {
    "name": "ipython",
    "version": 3
   },
   "file_extension": ".py",
   "mimetype": "text/x-python",
   "name": "python",
   "nbconvert_exporter": "python",
   "pygments_lexer": "ipython3",
   "version": "3.10.1"
  }
 },
 "nbformat": 4,
 "nbformat_minor": 5
}
